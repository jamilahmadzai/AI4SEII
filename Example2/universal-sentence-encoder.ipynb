{
 "cells": [
  {
   "cell_type": "code",
   "execution_count": 74,
   "id": "2be2f465-3d4d-49a1-987a-7fe438cb0647",
   "metadata": {},
   "outputs": [],
   "source": [
    "from absl import logging\n",
    "\n",
    "# import tensorflow as tf\n",
    "import tensorflow.compat.v1 as tf\n",
    "tf.disable_v2_behavior()\n",
    "\n",
    "from pathlib import Path\n",
    "from pigeonXT import annotate\n",
    "\n",
    "from IPython.display import display, Image\n",
    "\n",
    "import tensorflow_hub as hub\n",
    "import pigeonXT as pixt\n",
    "import matplotlib.pyplot as plt\n",
    "import numpy as np\n",
    "import os\n",
    "import pandas as pd\n",
    "import re\n",
    "import json\n",
    "import seaborn as sns\n",
    "\n",
    "import warnings\n",
    "warnings.filterwarnings(\"ignore\")"
   ]
  },
  {
   "cell_type": "code",
   "execution_count": 75,
   "id": "54d38677-fb25-429a-a535-8b4bbe5e63fa",
   "metadata": {},
   "outputs": [],
   "source": [
    "with open(\"requirements1.json\") as datafile1:\n",
    "  data1 = json.load(datafile1)\n",
    "dataframe1 = pd.DataFrame(data1)\n",
    "# dataframe1"
   ]
  },
  {
   "cell_type": "code",
   "execution_count": 76,
   "id": "3c0c5692-b97e-41db-b285-203e13de8bfa",
   "metadata": {},
   "outputs": [],
   "source": [
    "with open(\"requirements2.json\") as datafile2:\n",
    "  data2 = json.load(datafile2)\n",
    "dataframe2 = pd.DataFrame(data2)\n",
    "# dataframe2"
   ]
  },
  {
   "cell_type": "code",
   "execution_count": 77,
   "id": "eea2b848-dd5b-4ad9-98fd-68f727fc8bd4",
   "metadata": {},
   "outputs": [],
   "source": [
    "def embed_useTensorFlow(module):\n",
    "    with tf.Graph().as_default():\n",
    "        sentences = tf.placeholder(tf.string)\n",
    "        embed = hub.load(module)\n",
    "        embeddings = embed(sentences)\n",
    "        session = tf.train.MonitoredSession()\n",
    "    return lambda x: session.run(embeddings, {sentences: x})"
   ]
  },
  {
   "cell_type": "code",
   "execution_count": 78,
   "id": "5211f3a2-48dc-4645-a54c-869887f91902",
   "metadata": {},
   "outputs": [
    {
     "name": "stdout",
     "output_type": "stream",
     "text": [
      "INFO:tensorflow:Graph was finalized.\n",
      "INFO:tensorflow:Running local_init_op.\n",
      "INFO:tensorflow:Done running local_init_op.\n"
     ]
    }
   ],
   "source": [
    "model = embed_useTensorFlow(\"/home/universal-sentence-encoder\")\n",
    "warnings.filterwarnings(\"ignore\")"
   ]
  },
  {
   "cell_type": "code",
   "execution_count": 79,
   "id": "2bdd2be7-3b12-4ba7-be4a-c3fc85cf7d59",
   "metadata": {},
   "outputs": [
    {
     "data": {
      "text/plain": [
       "array([[ 0.02028429, -0.04547504,  0.0008653 , ..., -0.03019486,\n",
       "        -0.02359271, -0.03768106],\n",
       "       [-0.02782308, -0.02442297,  0.01386481, ..., -0.02604604,\n",
       "         0.01534363, -0.04422351],\n",
       "       [-0.03607358,  0.06149342,  0.03570342, ...,  0.02274202,\n",
       "         0.0043596 , -0.02052143],\n",
       "       ...,\n",
       "       [-0.02979807, -0.06329199,  0.01207912, ...,  0.07824194,\n",
       "        -0.0388526 , -0.03307635],\n",
       "       [-0.06045128, -0.00204545,  0.02656927, ...,  0.00764415,\n",
       "        -0.02669661,  0.05110301],\n",
       "       [-0.08415683, -0.08687921,  0.03446119, ..., -0.01439388,\n",
       "        -0.04546221,  0.03639965]], dtype=float32)"
      ]
     },
     "execution_count": 79,
     "metadata": {},
     "output_type": "execute_result"
    }
   ],
   "source": [
    "message_embeddings1 = model(dataframe1.title)\n",
    "message_embeddings1"
   ]
  },
  {
   "cell_type": "code",
   "execution_count": 80,
   "id": "1f7d5cd3-5b43-40c7-a875-e577da76f51d",
   "metadata": {},
   "outputs": [
    {
     "data": {
      "text/plain": [
       "array([[ 0.02028429, -0.04547504,  0.0008653 , ..., -0.03019486,\n",
       "        -0.02359271, -0.03768106],\n",
       "       [ 0.01795929, -0.00823687, -0.08146156, ..., -0.02089699,\n",
       "        -0.07995155, -0.06638795],\n",
       "       [-0.04417747,  0.00145734,  0.01731091, ..., -0.04255265,\n",
       "         0.03592286, -0.0454901 ],\n",
       "       ...,\n",
       "       [-0.05818995, -0.02438042,  0.03435886, ..., -0.00431371,\n",
       "        -0.03016969, -0.04553239],\n",
       "       [-0.08409847, -0.0898385 ,  0.0377935 , ..., -0.01113907,\n",
       "        -0.04574325,  0.01797723],\n",
       "       [ 0.01268492, -0.04417375,  0.02137297, ...,  0.0288733 ,\n",
       "        -0.02806583, -0.05805147]], dtype=float32)"
      ]
     },
     "execution_count": 80,
     "metadata": {},
     "output_type": "execute_result"
    }
   ],
   "source": [
    "message_embeddings2 = model(dataframe2.title)\n",
    "message_embeddings2"
   ]
  },
  {
   "cell_type": "markdown",
   "id": "e7960496-974e-4e29-9b7c-bff8b2d33a96",
   "metadata": {},
   "source": [
    "### Finding sentences based on similarity above certain threshold"
   ]
  },
  {
   "cell_type": "code",
   "execution_count": 81,
   "id": "5ac8aa23-72f8-413c-8b5b-60fea80af994",
   "metadata": {},
   "outputs": [
    {
     "data": {
      "text/plain": [
       "array([[ 0.9999997 ,  0.07792404,  0.7443838 ,  0.09288538,  0.08232927,\n",
       "         0.07054323,  0.33740467,  0.13678169,  0.21238796,  0.25534543,\n",
       "         0.07176749],\n",
       "       [ 0.8014913 ,  0.01973315,  0.88981485,  0.09399641,  0.13491908,\n",
       "         0.0751824 ,  0.42811078,  0.17599285,  0.25800347,  0.13465133,\n",
       "         0.00482215],\n",
       "       [ 0.5202484 , -0.00840861,  0.68462336,  0.03411632,  0.11299965,\n",
       "         0.07376471,  0.24897552,  0.14437759,  0.17530848,  0.21923253,\n",
       "         0.0441826 ],\n",
       "       [ 0.09288538,  0.11946881,  0.06602791,  0.99999994,  0.20761734,\n",
       "         0.35555333,  0.08064336,  0.06445041,  0.11921951,  0.00990805,\n",
       "         0.068648  ],\n",
       "       [ 0.12269989, -0.08334166,  0.21776892,  0.1842165 ,  0.70689696,\n",
       "         0.2676028 ,  0.08333237,  0.04023584,  0.0917294 ,  0.01661144,\n",
       "        -0.0237715 ],\n",
       "       [ 0.08146903,  0.12461116,  0.10275266,  0.28097314,  0.2773878 ,\n",
       "         0.8816458 ,  0.05252626,  0.13999027,  0.07620304,  0.1377646 ,\n",
       "         0.10331045],\n",
       "       [ 0.20046483,  0.14315306,  0.19846196,  0.07407309,  0.05201081,\n",
       "         0.00267745,  0.6069179 ,  0.32847518,  0.4060886 ,  0.07179151,\n",
       "        -0.03766647],\n",
       "       [ 0.13678169,  0.15575191,  0.1973305 ,  0.06445041,  0.07369408,\n",
       "         0.18175116,  0.44694066,  0.99999994,  0.24123526,  0.04628335,\n",
       "        -0.02082588],\n",
       "       [ 0.13420959, -0.03572769,  0.14289607,  0.09230557,  0.05372707,\n",
       "         0.1491606 ,  0.18335626,  0.28853104,  0.20331609,  0.01265657,\n",
       "        -0.00147141],\n",
       "       [ 0.06805889,  0.07045643,  0.05448912,  0.08095504, -0.0262582 ,\n",
       "         0.0942129 ,  0.083362  ,  0.03825115,  0.02520475,  0.6915525 ,\n",
       "         0.4630934 ],\n",
       "       [ 0.12727675,  0.04894518,  0.1050784 ,  0.03404447,  0.00902131,\n",
       "         0.12407784,  0.12706262,  0.03396294,  0.04991749,  0.8523213 ,\n",
       "         0.4256182 ]], dtype=float32)"
      ]
     },
     "execution_count": 81,
     "metadata": {},
     "output_type": "execute_result"
    }
   ],
   "source": [
    "tempCorr = np.inner(message_embeddings1, message_embeddings2)\n",
    "tempCorr"
   ]
  },
  {
   "cell_type": "code",
   "execution_count": 82,
   "id": "7c130d5e-24d9-4908-89d7-d8194751624e",
   "metadata": {},
   "outputs": [
    {
     "data": {
      "text/plain": [
       "array([[ 0,  0],\n",
       "       [ 1,  0],\n",
       "       [ 1,  2],\n",
       "       [ 3,  3],\n",
       "       [ 5,  5],\n",
       "       [ 7,  7],\n",
       "       [10,  9]])"
      ]
     },
     "execution_count": 82,
     "metadata": {},
     "output_type": "execute_result"
    }
   ],
   "source": [
    "# Find indexes where value is greater than certain threshold\n",
    "req_index = np.argwhere(tempCorr > 0.8)\n",
    "req_index"
   ]
  },
  {
   "cell_type": "code",
   "execution_count": 83,
   "id": "af94b899-3888-44c8-810e-6dfba8f103db",
   "metadata": {},
   "outputs": [
    {
     "name": "stdout",
     "output_type": "stream",
     "text": [
      ".....\n",
      "['I like my phone']\n",
      "['I like my phone']\n",
      ".....\n",
      "['My phone is good.']\n",
      "['I like my phone']\n",
      ".....\n",
      "['My phone is good.']\n",
      "['My cellphone is very good.']\n",
      ".....\n",
      "['Will it snow tomorrow?']\n",
      "['Will it snow tomorrow?']\n",
      ".....\n",
      "['Global warming is real']\n",
      "['Is global warming real?']\n",
      ".....\n",
      "['Eating strawberries is healthy']\n",
      "['Eating strawberries is healthy']\n",
      ".....\n",
      "['what is your age?']\n",
      "['Tell me your age?']\n"
     ]
    }
   ],
   "source": [
    "for i in req_index:\n",
    "    print(\".....\")\n",
    "    print(dataframe1.values[i[0]])\n",
    "    print(dataframe2.values[i[1]])"
   ]
  },
  {
   "cell_type": "markdown",
   "id": "02b38164-ddd6-447c-9f96-f27d02dcc380",
   "metadata": {},
   "source": [
    "### Find unique sentences within a single file"
   ]
  },
  {
   "cell_type": "code",
   "execution_count": 84,
   "id": "9bef1aa0-f4df-4257-8110-00fe00fbeb29",
   "metadata": {},
   "outputs": [],
   "source": [
    "#It takes similarity matrix (generated from sentence encoder) as input and gives index of redundant statements\n",
    "def redundant_sent_idx(sim_matrix):\n",
    "    dup_idx = [] \n",
    "    for i in range(sim_matrix.shape[0]):\n",
    "        if i not in dup_idx:\n",
    "            tmp = [t+i+1 for t in list(np.where( sim_matrix[i][i+1:] > 0.6 )[0])]\n",
    "            dup_idx.extend(tmp)\n",
    "    return dup_idx"
   ]
  },
  {
   "cell_type": "markdown",
   "id": "f1e98b0d-cd2c-4129-9245-332902227137",
   "metadata": {},
   "source": [
    "> Check uniques values for all files"
   ]
  },
  {
   "cell_type": "code",
   "execution_count": 85,
   "id": "d45a31a9-6e7f-4075-b358-1e6b5381574c",
   "metadata": {},
   "outputs": [],
   "source": [
    "message_embeddings1 = model(dataframe1.title)"
   ]
  },
  {
   "cell_type": "code",
   "execution_count": 86,
   "id": "85c8cf19-bf75-46da-aa86-6faf087570ac",
   "metadata": {},
   "outputs": [
    {
     "name": "stdout",
     "output_type": "stream",
     "text": [
      "[1, 10]\n"
     ]
    },
    {
     "data": {
      "text/plain": [
       "array(['I like my phone', 'Your cellphone looks great.',\n",
       "       'Will it snow tomorrow?',\n",
       "       'Recently a lot of hurricanes have hit the US',\n",
       "       'Global warming is real', 'An apple a day, keeps the doctors away',\n",
       "       'Eating strawberries is healthy', 'Is paleo better than keto?',\n",
       "       'How old are you?'], dtype=object)"
      ]
     },
     "execution_count": 86,
     "metadata": {},
     "output_type": "execute_result"
    }
   ],
   "source": [
    "#indexes of duplicate statements.\n",
    "dup_indexes1  = redundant_sent_idx(np.inner(message_embeddings1, message_embeddings1))\n",
    "print(dup_indexes1)\n",
    "# Now delete the dup_indexes from the dataframe\n",
    "unique_messages1 = np.delete(np.array(dataframe1.title), dup_indexes1)\n",
    "unique_messages1"
   ]
  },
  {
   "cell_type": "code",
   "execution_count": 87,
   "id": "1dea1b89-959e-4be7-b7b5-7bcda343ef32",
   "metadata": {},
   "outputs": [],
   "source": [
    "message_embeddings2 = model(dataframe2.title)"
   ]
  },
  {
   "cell_type": "code",
   "execution_count": 88,
   "id": "163e5f8a-68bb-4aa2-9c07-2b4c78da266d",
   "metadata": {},
   "outputs": [
    {
     "name": "stdout",
     "output_type": "stream",
     "text": [
      "[2]\n"
     ]
    },
    {
     "data": {
      "text/plain": [
       "array(['I like my phone', 'Let play football', 'Will it snow tomorrow?',\n",
       "       'US is again hit by hurricane', 'Is global warming real?',\n",
       "       'Apple is very good for health', 'Eating strawberries is healthy',\n",
       "       'Is apple better than orange?', 'Tell me your age?',\n",
       "       'When were you born?'], dtype=object)"
      ]
     },
     "execution_count": 88,
     "metadata": {},
     "output_type": "execute_result"
    }
   ],
   "source": [
    "dup_indexes2  = redundant_sent_idx(np.inner(message_embeddings2, message_embeddings2))\n",
    "print(dup_indexes2)\n",
    "unique_messages2 = np.delete(np.array(dataframe2.title), dup_indexes2)\n",
    "unique_messages2"
   ]
  },
  {
   "cell_type": "code",
   "execution_count": 89,
   "id": "7833fbda-b1f1-4ba9-a275-ee7916ed5107",
   "metadata": {},
   "outputs": [],
   "source": [
    "unique_messages1_embeddings = model(unique_messages1)\n",
    "unique_messages2_embeddings = model(unique_messages2)"
   ]
  },
  {
   "cell_type": "markdown",
   "id": "05ec461f-9724-4498-a723-47eb6ab6d5fd",
   "metadata": {},
   "source": [
    "### Find unique sentences in two files"
   ]
  },
  {
   "cell_type": "code",
   "execution_count": 90,
   "id": "0f855bb1-6ebc-437a-9805-88874d040e4d",
   "metadata": {},
   "outputs": [
    {
     "data": {
      "text/plain": [
       "array([[ 0.9999997 ,  0.07792404,  0.09288538,  0.08232927,  0.07054323,\n",
       "         0.33740467,  0.13678169,  0.21238792,  0.25534543,  0.07176749],\n",
       "       [ 0.5202484 , -0.00840861,  0.03411632,  0.11299965,  0.07376471,\n",
       "         0.24897552,  0.14437759,  0.17530844,  0.21923253,  0.0441826 ],\n",
       "       [ 0.09288538,  0.11946881,  0.99999994,  0.20761734,  0.35555333,\n",
       "         0.08064336,  0.06445041,  0.1192195 ,  0.00990805,  0.068648  ],\n",
       "       [ 0.12269989, -0.08334166,  0.1842165 ,  0.70689696,  0.2676028 ,\n",
       "         0.08333237,  0.04023584,  0.09172942,  0.01661144, -0.0237715 ],\n",
       "       [ 0.08146903,  0.12461116,  0.28097314,  0.2773878 ,  0.8816458 ,\n",
       "         0.05252626,  0.13999027,  0.07620305,  0.1377646 ,  0.10331045],\n",
       "       [ 0.20046483,  0.14315306,  0.07407309,  0.05201081,  0.00267745,\n",
       "         0.6069179 ,  0.32847518,  0.40608853,  0.07179151, -0.03766647],\n",
       "       [ 0.13678172,  0.15575191,  0.06445037,  0.07369408,  0.18175116,\n",
       "         0.44694072,  1.        ,  0.24123523,  0.04628335, -0.02082588],\n",
       "       [ 0.13420957, -0.03572767,  0.09230553,  0.05372704,  0.1491606 ,\n",
       "         0.18335623,  0.288531  ,  0.20331603,  0.01265656, -0.00147141],\n",
       "       [ 0.06805889,  0.07045643,  0.08095504, -0.0262582 ,  0.09421292,\n",
       "         0.08336198,  0.03825117,  0.02520476,  0.6915526 ,  0.46309337]],\n",
       "      dtype=float32)"
      ]
     },
     "execution_count": 90,
     "metadata": {},
     "output_type": "execute_result"
    }
   ],
   "source": [
    "corelation = np.inner(unique_messages1_embeddings, unique_messages2_embeddings)\n",
    "corelation"
   ]
  },
  {
   "cell_type": "code",
   "execution_count": 91,
   "id": "ac8231ce-d167-43d8-b3a9-9dc61c72dfbb",
   "metadata": {},
   "outputs": [],
   "source": [
    "# Find indexes where value is greater than certain threshold\n",
    "req_index = np.argwhere(corelation > 0.6)\n",
    "df1_index = []\n",
    "df2_index = []\n",
    "ultimate_message = []\n",
    "for i in req_index:\n",
    "    if i[0] not in df1_index:\n",
    "        df1_index.append(i[0])\n",
    "        ultimate_message.append(unique_messages1[i[0]]) #Just picked the message from first file\n",
    "    if i[1] not in df2_index:    \n",
    "#         print(\"Skipped Messages from 2nd: \" + unique_messages2[i[1]])\n",
    "        df2_index.append(i[1]) "
   ]
  },
  {
   "cell_type": "code",
   "execution_count": 92,
   "id": "3f91a707-a818-49af-b2f3-980c38c87910",
   "metadata": {},
   "outputs": [
    {
     "data": {
      "text/plain": [
       "['I like my phone',\n",
       " 'Will it snow tomorrow?',\n",
       " 'Recently a lot of hurricanes have hit the US',\n",
       " 'Global warming is real',\n",
       " 'An apple a day, keeps the doctors away',\n",
       " 'Eating strawberries is healthy',\n",
       " 'How old are you?']"
      ]
     },
     "execution_count": 92,
     "metadata": {},
     "output_type": "execute_result"
    }
   ],
   "source": [
    "ultimate_message"
   ]
  },
  {
   "cell_type": "code",
   "execution_count": 93,
   "id": "cf32e0ea-c0ec-4372-aef9-aa48d4aeb314",
   "metadata": {},
   "outputs": [
    {
     "name": "stdout",
     "output_type": "stream",
     "text": [
      "From 2nd file\n",
      "['Let play football']\n",
      "From 2nd file\n",
      "['Eating strawberries is healthy']\n",
      "From 2nd file\n",
      "['Tell me your age?']\n",
      "From 1st file\n",
      "['My phone is good.']\n",
      "From 1st file\n",
      "['Eating strawberries is healthy']\n"
     ]
    }
   ],
   "source": [
    "# Find indexes where value is less than certain threshold\n",
    "req_index = np.argwhere(corelation < 0.4)\n",
    "for i in req_index:\n",
    "    if i[0] not in df1_index:\n",
    "        df1_index.append(i[0])\n",
    "        print(\"From 1st file\")\n",
    "        print(dataframe1.values[i[0]])\n",
    "        ultimate_message.append(unique_messages1[i[0]])\n",
    "    if i[1] not in df2_index:\n",
    "        df2_index.append(i[1])\n",
    "        print(\"From 2nd file\")\n",
    "        print(dataframe2.values[i[1]])\n",
    "        ultimate_message.append(unique_messages2[i[1]])"
   ]
  },
  {
   "cell_type": "code",
   "execution_count": 94,
   "id": "f4e5eeb5-6be3-4a2a-86fa-c975b5185bb3",
   "metadata": {},
   "outputs": [
    {
     "data": {
      "text/plain": [
       "['I like my phone',\n",
       " 'Will it snow tomorrow?',\n",
       " 'Recently a lot of hurricanes have hit the US',\n",
       " 'Global warming is real',\n",
       " 'An apple a day, keeps the doctors away',\n",
       " 'Eating strawberries is healthy',\n",
       " 'How old are you?',\n",
       " 'Let play football',\n",
       " 'Is apple better than orange?',\n",
       " 'When were you born?',\n",
       " 'Your cellphone looks great.',\n",
       " 'Is paleo better than keto?']"
      ]
     },
     "execution_count": 94,
     "metadata": {},
     "output_type": "execute_result"
    }
   ],
   "source": [
    "ultimate_message"
   ]
  },
  {
   "cell_type": "code",
   "execution_count": 95,
   "id": "d108c138-bec5-433d-8cbb-6a45e2cf7c79",
   "metadata": {},
   "outputs": [
    {
     "data": {
      "text/plain": [
       "Text(0.5, 1.0, 'Semantic Textual Similarity')"
      ]
     },
     "execution_count": 95,
     "metadata": {},
     "output_type": "execute_result"
    },
    {
     "data": {
      "image/png": "[encoded data removed]",
      "text/plain": [
       "<Figure size 432x288 with 2 Axes>"
      ]
     },
     "metadata": {},
     "output_type": "display_data"
    }
   ],
   "source": [
    "corr = np.inner(unique_messages2_embeddings, unique_messages1_embeddings)\n",
    "# print(corr)\n",
    "sns.set(font_scale=1.2)\n",
    "g = sns.heatmap(\n",
    "  corr,\n",
    "  xticklabels=unique_messages1,\n",
    "  yticklabels=unique_messages2,\n",
    "  vmin=0,\n",
    "  vmax=1,\n",
    "  cmap=\"YlOrRd\")\n",
    "g.set_xticklabels(unique_messages1, rotation=90)\n",
    "g.set_title(\"Semantic Textual Similarity\")"
   ]
  },
  {
   "cell_type": "code",
   "execution_count": null,
   "id": "36fb07eb-1558-4a68-8077-294d9c12a923",
   "metadata": {},
   "outputs": [],
   "source": []
  }
 ],
 "metadata": {
  "kernelspec": {
   "display_name": "Python 3 (ipykernel)",
   "language": "python",
   "name": "python3"
  },
  "language_info": {
   "codemirror_mode": {
    "name": "ipython",
    "version": 3
   },
   "file_extension": ".py",
   "mimetype": "text/x-python",
   "name": "python",
   "nbconvert_exporter": "python",
   "pygments_lexer": "ipython3",
   "version": "3.8.5"
  }
 },
 "nbformat": 4,
 "nbformat_minor": 5
}
